{
 "cells": [
  {
   "cell_type": "markdown",
   "id": "b5be22ff",
   "metadata": {},
   "source": [
    "## Objectives\n",
    "\n",
    "*   Create and use APIs in Python"
   ]
  },
  {
   "cell_type": "markdown",
   "id": "37304604",
   "metadata": {},
   "source": [
    "## Introduction\n",
    "\n",
    "* API stands for Application Programming Interface.\n",
    "* It is a set of rules, protocols, and tools that allows different software applications to communicate with each other.\n",
    "* APIs define how different components of software should interact, providing a way for developers to access certain features or data from another application or service without needing to understand its internal workings.\n",
    "* APIs can be public or private. Public APIs are available to developers outside the organization that created them, while private APIs are used internally within an organization.\n",
    "* APIs can be categorized into different types such as RESTful APIs, SOAP APIs, and GraphQL APIs, each with its own protocols and conventions for communication.\n",
    "* APIs typically consist of endpoints, which are specific URLs or URIs that represent different functionalities or resources provided by the API.\n",
    "* When a client application makes a request to an API endpoint, it sends a structured message containing the necessary information, such as parameters or authentication tokens.\n",
    "* The API server processes the request, performs any necessary actions, and returns a response to the client, often in a standardized format such as JSON or XML.\n",
    "* APIs enable developers to build applications more efficiently by leveraging the functionality and data provided by other services, rather than reinventing the wheel for every application feature.\n",
    "* Examples of APIs include social media APIs (like the Twitter API for accessing tweets), payment gateway APIs (like the PayPal API for processing payments), and mapping APIs (like the Google Maps API for displaying maps and location data)."
   ]
  },
  {
   "cell_type": "markdown",
   "id": "4a86cf90",
   "metadata": {},
   "source": [
    "## Pandas is an API\n",
    "\n",
    "Pandas is actually set of software components, much of  which is not even written in Python."
   ]
  },
  {
   "cell_type": "code",
   "execution_count": 1,
   "id": "ab63f79e",
   "metadata": {},
   "outputs": [],
   "source": [
    "import pandas as pd\n",
    "import matplotlib.pyplot as plt"
   ]
  },
  {
   "cell_type": "code",
   "execution_count": 3,
   "id": "7b7530a6",
   "metadata": {},
   "outputs": [
    {
     "data": {
      "text/plain": [
       "{'a': [11, 21, 31], 'b': [12, 22, 32]}"
      ]
     },
     "execution_count": 3,
     "metadata": {},
     "output_type": "execute_result"
    }
   ],
   "source": [
    "#creating a simple dictionary\n",
    "dict = {'a':[11,21,31], 'b':[12,22,32]}\n",
    "dict"
   ]
  },
  {
   "cell_type": "markdown",
   "id": "2c58d66d",
   "metadata": {},
   "source": [
    "<img src=\"https://cf-courses-data.s3.us.cloud-object-storage.appdomain.cloud/IBMDeveloperSkillsNetwork-PY0101EN-SkillsNetwork/labs/Module%205/images/pandas_api.png\" width=\"800,\" align=\"center\" alt=\"logistic regression block diagram\">\n",
    "\n",
    "#### Creating a DataFrame Instance: \n",
    "When you use the DataFrame constructor in Pandas, you are creating an instance of the DataFrame class. This instance represents a specific DataFrame object in memory, initialized with the data provided to the constructor.\n",
    "\n",
    "#### Passing Data to the Pandas API: \n",
    "The data (e.g., a dictionary) that you pass to the DataFrame constructor is handed over to the Pandas API. The constructor then processes this data and constructs the DataFrame accordingly. The Pandas API encompasses all the functions, methods, and structures provided by the Pandas library for working with data, including creating, manipulating, and analyzing DataFrames.\n",
    "\n",
    "#### Communicating with the DataFrame: \n",
    "Once you have created a DataFrame instance, you interact with it to perform various operations on your data. This interaction involves using DataFrame methods and attributes provided by the Pandas API. For example, you can perform data selection, filtering, aggregation, and visualization by calling methods on the DataFrame instance."
   ]
  },
  {
   "cell_type": "code",
   "execution_count": 5,
   "id": "6e9cd619",
   "metadata": {},
   "outputs": [
    {
     "data": {
      "text/plain": [
       "pandas.core.frame.DataFrame"
      ]
     },
     "execution_count": 5,
     "metadata": {},
     "output_type": "execute_result"
    }
   ],
   "source": [
    "df=pd.DataFrame(dict)\n",
    "type(df)"
   ]
  },
  {
   "cell_type": "code",
   "execution_count": 8,
   "id": "3e2bde30",
   "metadata": {},
   "outputs": [
    {
     "data": {
      "text/html": [
       "<div>\n",
       "<style scoped>\n",
       "    .dataframe tbody tr th:only-of-type {\n",
       "        vertical-align: middle;\n",
       "    }\n",
       "\n",
       "    .dataframe tbody tr th {\n",
       "        vertical-align: top;\n",
       "    }\n",
       "\n",
       "    .dataframe thead th {\n",
       "        text-align: right;\n",
       "    }\n",
       "</style>\n",
       "<table border=\"1\" class=\"dataframe\">\n",
       "  <thead>\n",
       "    <tr style=\"text-align: right;\">\n",
       "      <th></th>\n",
       "      <th>a</th>\n",
       "      <th>b</th>\n",
       "    </tr>\n",
       "  </thead>\n",
       "  <tbody>\n",
       "    <tr>\n",
       "      <th>0</th>\n",
       "      <td>11</td>\n",
       "      <td>12</td>\n",
       "    </tr>\n",
       "    <tr>\n",
       "      <th>1</th>\n",
       "      <td>21</td>\n",
       "      <td>22</td>\n",
       "    </tr>\n",
       "    <tr>\n",
       "      <th>2</th>\n",
       "      <td>31</td>\n",
       "      <td>32</td>\n",
       "    </tr>\n",
       "  </tbody>\n",
       "</table>\n",
       "</div>"
      ],
      "text/plain": [
       "    a   b\n",
       "0  11  12\n",
       "1  21  22\n",
       "2  31  32"
      ]
     },
     "execution_count": 8,
     "metadata": {},
     "output_type": "execute_result"
    }
   ],
   "source": [
    "# When you call the method `head` the dataframe communicates with the API displaying the first few rows of the dataframe.\n",
    "df.head()\n"
   ]
  },
  {
   "cell_type": "code",
   "execution_count": 9,
   "id": "2eabe001",
   "metadata": {},
   "outputs": [
    {
     "data": {
      "text/plain": [
       "a    21.0\n",
       "b    22.0\n",
       "dtype: float64"
      ]
     },
     "execution_count": 9,
     "metadata": {},
     "output_type": "execute_result"
    }
   ],
   "source": [
    "# When you call the method mean, the API will calculate the mean and return the value.\n",
    "df.mean()"
   ]
  },
  {
   "cell_type": "markdown",
   "id": "d9f79812",
   "metadata": {},
   "source": [
    "## Understanding REST APIs\n",
    "\n",
    "REST API, which stands for Representational State Transfer Application Programming Interface, is a type of web service that allows different software applications to communicate with each other over the internet. It is based on the REST architectural style, which emphasizes a stateless client-server communication where the server holds the state of the application, and clients request and manipulate resources on the server.\n",
    "\n",
    "## How REST APIs Work\n",
    "\n",
    "1. **Client-Server Architecture**: REST APIs follow a client-server architecture, where clients send requests to servers to access or manipulate resources. The server holds the resources and responds to client requests.\n",
    "\n",
    "2. **HTTP Protocol**: REST APIs typically use the HTTP protocol for communication. Clients send HTTP requests to server endpoints, and servers respond with HTTP responses. The most common HTTP methods used in REST APIs are GET (retrieve data), POST (create data), PUT (update data), DELETE (delete data), etc.\n",
    "\n",
    "3. **Resource-Based**: REST APIs are based on resources, which are identified by unique URLs called endpoints. Each endpoint represents a specific resource, such as a user, product, or piece of data.\n",
    "\n",
    "4. **Uniform Interface**: REST APIs use a uniform interface, which means that they have standard methods for accessing and manipulating resources. These methods include GET (retrieve data), POST (create data), PUT (update data), DELETE (delete data), etc.\n",
    "\n",
    "5. **Stateless**: REST APIs are stateless, meaning that each request from a client to the server must contain all the information necessary to understand and process the request. The server does not store any client state between requests.\n",
    "\n",
    "6. **Response Format**: REST APIs typically respond with data in a standardized format, such as JSON (JavaScript Object Notation) or XML (eXtensible Markup Language). This allows clients to easily parse and use the data returned by the API.\n",
    "\n",
    "In summary, REST APIs provide a standardized way for software applications to communicate with each other over the internet using the HTTP protocol. They are based on a client-server architecture, use resource-based endpoints, and respond with data in a standardized format such as JSON or XML.\n"
   ]
  },
  {
   "cell_type": "markdown",
   "id": "f40aa52a",
   "metadata": {},
   "source": [
    "<p>In this lab, we will use the <a href=https://pypi.org/project/nba-api/?utm_medium=Exinfluencer&utm_source=Exinfluencer&utm_content=000026UJ&utm_term=10006555&utm_id=NA-SkillsNetwork-Channel-SkillsNetworkCoursesIBMDeveloperSkillsNetworkPY0101ENSkillsNetwork19487395-2021-01-01>NBA API</a> to determine how well the Golden State Warriors performed against the Toronto Raptors. We will use the API to determine the number of points the Golden State Warriors won or lost by for each game. So if the value is three, the Golden State Warriors won by three points. Similarly it the  Golden State Warriors lost  by two points the result will be negative two. The API will handle a lot of the details, such a Endpoints and Authentication. </p>"
   ]
  },
  {
   "cell_type": "markdown",
   "id": "f2c8589b",
   "metadata": {},
   "source": [
    "It's quite simple to use the nba api to make a request for a specific team. We don't require a JSON, all we require is an id. This information is stored locally in the API. We import the module `teams`."
   ]
  },
  {
   "cell_type": "code",
   "execution_count": null,
   "id": "f6d59252",
   "metadata": {},
   "outputs": [],
   "source": []
  }
 ],
 "metadata": {
  "kernelspec": {
   "display_name": "Python 3 (ipykernel)",
   "language": "python",
   "name": "python3"
  },
  "language_info": {
   "codemirror_mode": {
    "name": "ipython",
    "version": 3
   },
   "file_extension": ".py",
   "mimetype": "text/x-python",
   "name": "python",
   "nbconvert_exporter": "python",
   "pygments_lexer": "ipython3",
   "version": "3.8.8"
  }
 },
 "nbformat": 4,
 "nbformat_minor": 5
}
