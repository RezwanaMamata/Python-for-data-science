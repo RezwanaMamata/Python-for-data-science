{
 "cells": [
  {
   "cell_type": "markdown",
   "id": "b5be22ff",
   "metadata": {},
   "source": [
    "## Objectives\n",
    "\n",
    "*   Create and use APIs in Python"
   ]
  },
  {
   "cell_type": "markdown",
   "id": "37304604",
   "metadata": {},
   "source": [
    "### Introduction\n",
    "\n",
    "* API stands for Application Programming Interface.\n",
    "* It is a set of rules, protocols, and tools that allows different software applications to communicate with each other.\n",
    "* APIs define how different components of software should interact, providing a way for developers to access certain features or data from another application or service without needing to understand its internal workings.\n",
    "* APIs can be public or private. Public APIs are available to developers outside the organization that created them, while private APIs are used internally within an organization.\n",
    "* APIs can be categorized into different types such as RESTful APIs, SOAP APIs, and GraphQL APIs, each with its own protocols and conventions for communication.\n",
    "* APIs typically consist of endpoints, which are specific URLs or URIs that represent different functionalities or resources provided by the API.\n",
    "* When a client application makes a request to an API endpoint, it sends a structured message containing the necessary information, such as parameters or authentication tokens.\n",
    "* The API server processes the request, performs any necessary actions, and returns a response to the client, often in a standardized format such as JSON or XML.\n",
    "* APIs enable developers to build applications more efficiently by leveraging the functionality and data provided by other services, rather than reinventing the wheel for every application feature.\n",
    "* Examples of APIs include social media APIs (like the Twitter API for accessing tweets), payment gateway APIs (like the PayPal API for processing payments), and mapping APIs (like the Google Maps API for displaying maps and location data)."
   ]
  },
  {
   "cell_type": "markdown",
   "id": "4a86cf90",
   "metadata": {},
   "source": [
    "## Pandas is an API\n",
    "\n",
    "Pandas is actually set of software components, much of  which is not even written in Python."
   ]
  },
  {
   "cell_type": "code",
   "execution_count": 1,
   "id": "ab63f79e",
   "metadata": {},
   "outputs": [
    {
     "name": "stderr",
     "output_type": "stream",
     "text": [
      "C:\\Users\\100641313\\Anaconda3\\lib\\site-packages\\numpy\\_distributor_init.py:30: UserWarning: loaded more than 1 DLL from .libs:\n",
      "C:\\Users\\100641313\\Anaconda3\\lib\\site-packages\\numpy\\.libs\\libopenblas.fb5ae2tyxyh2ijrdkgdgq3xbklktf43h.gfortran-win_amd64.dll\n",
      "C:\\Users\\100641313\\Anaconda3\\lib\\site-packages\\numpy\\.libs\\libopenblas.GK7GX5KEQ4F6UYO3P26ULGBQYHGQO7J4.gfortran-win_amd64.dll\n",
      "C:\\Users\\100641313\\Anaconda3\\lib\\site-packages\\numpy\\.libs\\libopenblas.PYQHXLVVQ7VESDPUVUADXEVJOBGHJPAY.gfortran-win_amd64.dll\n",
      "  warnings.warn(\"loaded more than 1 DLL from .libs:\\n%s\" %\n"
     ]
    }
   ],
   "source": [
    "import pandas as pd\n",
    "import matplotlib.pyplot as plt"
   ]
  },
  {
   "cell_type": "code",
   "execution_count": 4,
   "id": "bd3114d1",
   "metadata": {},
   "outputs": [
    {
     "name": "stdout",
     "output_type": "stream",
     "text": [
      "Requirement already satisfied: numpy in c:\\users\\100641313\\anaconda3\\lib\\site-packages (1.23.3)\n",
      "Collecting numpy\n",
      "  Downloading numpy-1.24.4-cp38-cp38-win_amd64.whl (14.9 MB)\n",
      "Installing collected packages: numpy\n",
      "  Attempting uninstall: numpy\n",
      "    Found existing installation: numpy 1.23.3\n",
      "    Uninstalling numpy-1.23.3:\n",
      "      Successfully uninstalled numpy-1.23.3\n"
     ]
    },
    {
     "name": "stderr",
     "output_type": "stream",
     "text": [
      "ERROR: Could not install packages due to an OSError: [WinError 5] Access is denied: 'C:\\\\Users\\\\100641313\\\\AppData\\\\Local\\\\Temp\\\\pip-uninstall-j6ioukf3\\\\libopenblas.fb5ae2tyxyh2ijrdkgdgq3xbklktf43h.gfortran-win_amd64.dll'\n",
      "Consider using the `--user` option or check the permissions.\n",
      "\n"
     ]
    }
   ],
   "source": [
    "!pip install --upgrade numpy\n",
    "\n"
   ]
  },
  {
   "cell_type": "code",
   "execution_count": null,
   "id": "7b7530a6",
   "metadata": {},
   "outputs": [],
   "source": []
  }
 ],
 "metadata": {
  "kernelspec": {
   "display_name": "Python 3 (ipykernel)",
   "language": "python",
   "name": "python3"
  },
  "language_info": {
   "codemirror_mode": {
    "name": "ipython",
    "version": 3
   },
   "file_extension": ".py",
   "mimetype": "text/x-python",
   "name": "python",
   "nbconvert_exporter": "python",
   "pygments_lexer": "ipython3",
   "version": "3.8.8"
  }
 },
 "nbformat": 4,
 "nbformat_minor": 5
}
