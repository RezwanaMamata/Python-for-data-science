{
 "cells": [
  {
   "cell_type": "markdown",
   "metadata": {},
   "source": [
    "# Python Dictionary Exercises"
   ]
  },
  {
   "cell_type": "code",
   "execution_count": 1,
   "metadata": {},
   "outputs": [
    {
     "data": {
      "text/plain": [
       "{'R': 'Rezwana', 'S': 'Stephen', 'E': 'Eva', 'J': 'Jerusha'}"
      ]
     },
     "execution_count": 1,
     "metadata": {},
     "output_type": "execute_result"
    }
   ],
   "source": [
    "#Q1 Create a dictionary for all participants in the JDA program.\n",
    "#Keys should be the first letter in their names, \n",
    "#Values should be their names.\n",
    "#[Hint] dic={\"l\":(Leul),\"J\":(Jerry,Jainam)........}\n",
    "\n",
    "dic = {'R': 'Rezwana', 'S': 'Stephen', 'E': 'Elezabeth', 'E': 'Eva', 'J': 'Jerusha'}\n",
    "dic"
   ]
  },
  {
   "cell_type": "code",
   "execution_count": 2,
   "metadata": {},
   "outputs": [
    {
     "data": {
      "text/plain": [
       "{'Re': 'Rezwana',\n",
       " 'St': 'Stephen',\n",
       " 'El': 'Elezabeth',\n",
       " 'Ev': 'Eva',\n",
       " 'Je': 'Jerusha'}"
      ]
     },
     "execution_count": 2,
     "metadata": {},
     "output_type": "execute_result"
    }
   ],
   "source": [
    "dic = {'Re': 'Rezwana', 'St': 'Stephen', 'El': 'Elezabeth', 'Ev': 'Eva', 'Je': 'Jerusha'}\n",
    "dic"
   ]
  },
  {
   "cell_type": "code",
   "execution_count": 3,
   "metadata": {},
   "outputs": [],
   "source": [
    "#Q2 What are the keys of your dictionary"
   ]
  },
  {
   "cell_type": "code",
   "execution_count": 4,
   "metadata": {},
   "outputs": [
    {
     "data": {
      "text/plain": [
       "dict_keys(['Re', 'St', 'El', 'Ev', 'Je'])"
      ]
     },
     "execution_count": 4,
     "metadata": {},
     "output_type": "execute_result"
    }
   ],
   "source": [
    "dic.keys()"
   ]
  },
  {
   "cell_type": "code",
   "execution_count": 5,
   "metadata": {},
   "outputs": [],
   "source": [
    "#Q3 What are the values of your dictionary"
   ]
  },
  {
   "cell_type": "code",
   "execution_count": 6,
   "metadata": {},
   "outputs": [
    {
     "data": {
      "text/plain": [
       "dict_values(['Rezwana', 'Stephen', 'Elezabeth', 'Eva', 'Jerusha'])"
      ]
     },
     "execution_count": 6,
     "metadata": {},
     "output_type": "execute_result"
    }
   ],
   "source": [
    "dic.values()"
   ]
  },
  {
   "cell_type": "code",
   "execution_count": 7,
   "metadata": {},
   "outputs": [],
   "source": [
    "#Q4 Find participant's names that start with J,I,M,C,A"
   ]
  },
  {
   "cell_type": "code",
   "execution_count": 8,
   "metadata": {},
   "outputs": [
    {
     "data": {
      "text/plain": [
       "['Jerusha']"
      ]
     },
     "execution_count": 8,
     "metadata": {},
     "output_type": "execute_result"
    }
   ],
   "source": [
    "filtered_names = [name for key, name in dic.items() if name.startswith(('J', 'I', 'M', 'C', 'A'))]\n",
    "\n",
    "filtered_names"
   ]
  },
  {
   "cell_type": "code",
   "execution_count": 9,
   "metadata": {},
   "outputs": [],
   "source": [
    "#Q5 Add the following to your dictionary \n",
    "# Key<(K,PD)>, Value<(Kristina)>"
   ]
  },
  {
   "cell_type": "code",
   "execution_count": 10,
   "metadata": {},
   "outputs": [
    {
     "data": {
      "text/plain": [
       "{'Re': 'Rezwana',\n",
       " 'St': 'Stephen',\n",
       " 'El': 'Elezabeth',\n",
       " 'Ev': 'Eva',\n",
       " 'Je': 'Jerusha',\n",
       " 'K,PD': 'Kristina'}"
      ]
     },
     "execution_count": 10,
     "metadata": {},
     "output_type": "execute_result"
    }
   ],
   "source": [
    "dic['K,PD'] = 'Kristina'\n",
    "dic"
   ]
  },
  {
   "cell_type": "code",
   "execution_count": 11,
   "metadata": {},
   "outputs": [],
   "source": [
    "#Q6 Find the length of your dictionary  "
   ]
  },
  {
   "cell_type": "code",
   "execution_count": 12,
   "metadata": {},
   "outputs": [
    {
     "data": {
      "text/plain": [
       "6"
      ]
     },
     "execution_count": 12,
     "metadata": {},
     "output_type": "execute_result"
    }
   ],
   "source": [
    "length = len(dic)\n",
    "length"
   ]
  },
  {
   "cell_type": "code",
   "execution_count": 13,
   "metadata": {},
   "outputs": [],
   "source": [
    "#Q7 Add the following to your dictionary \n",
    "# Key<(S,Instructor)>, Value<(Sarah)>"
   ]
  },
  {
   "cell_type": "code",
   "execution_count": 14,
   "metadata": {},
   "outputs": [
    {
     "data": {
      "text/plain": [
       "{'Re': 'Rezwana',\n",
       " 'St': 'Stephen',\n",
       " 'El': 'Elezabeth',\n",
       " 'Ev': 'Eva',\n",
       " 'Je': 'Jerusha',\n",
       " 'K,PD': 'Kristina',\n",
       " 'S,Instructor': 'Sarah'}"
      ]
     },
     "execution_count": 14,
     "metadata": {},
     "output_type": "execute_result"
    }
   ],
   "source": [
    "dic['S,Instructor'] = 'Sarah'\n",
    "dic"
   ]
  },
  {
   "cell_type": "code",
   "execution_count": 15,
   "metadata": {},
   "outputs": [],
   "source": [
    "#Q8 Find the length of your dictionary  "
   ]
  },
  {
   "cell_type": "code",
   "execution_count": 16,
   "metadata": {},
   "outputs": [
    {
     "data": {
      "text/plain": [
       "7"
      ]
     },
     "execution_count": 16,
     "metadata": {},
     "output_type": "execute_result"
    }
   ],
   "source": [
    "len(dic)"
   ]
  },
  {
   "cell_type": "code",
   "execution_count": 17,
   "metadata": {},
   "outputs": [],
   "source": [
    "#Q7 Delete the following keys from your dictionary \n",
    "#Key<(S,Instructor)>\n",
    "#Key<J>"
   ]
  },
  {
   "cell_type": "code",
   "execution_count": 18,
   "metadata": {},
   "outputs": [
    {
     "name": "stdout",
     "output_type": "stream",
     "text": [
      "{'Re': 'Rezwana', 'St': 'Stephen', 'El': 'Elezabeth', 'Ev': 'Eva', 'Je': 'Jerusha', 'K,PD': 'Kristina'}\n",
      "{'Re': 'Rezwana', 'St': 'Stephen', 'El': 'Elezabeth', 'Ev': 'Eva', 'K,PD': 'Kristina'}\n"
     ]
    }
   ],
   "source": [
    "#delete Key<(S,Instructor)>\n",
    "del(dic['S,Instructor'])\n",
    "print(dic)\n",
    "\n",
    "#delete Key<J>\n",
    "del(dic['Je'])\n",
    "print(dic)"
   ]
  },
  {
   "cell_type": "code",
   "execution_count": 19,
   "metadata": {},
   "outputs": [],
   "source": [
    "#Q9 Find the length of your dictionary  "
   ]
  },
  {
   "cell_type": "code",
   "execution_count": 20,
   "metadata": {},
   "outputs": [
    {
     "data": {
      "text/plain": [
       "5"
      ]
     },
     "execution_count": 20,
     "metadata": {},
     "output_type": "execute_result"
    }
   ],
   "source": [
    "len(dic)"
   ]
  },
  {
   "cell_type": "code",
   "execution_count": 21,
   "metadata": {},
   "outputs": [],
   "source": [
    "#Q10 Create a new dictionary called synonyms_dic"
   ]
  },
  {
   "cell_type": "code",
   "execution_count": 22,
   "metadata": {},
   "outputs": [],
   "source": [
    "synonyms_dic = {}"
   ]
  },
  {
   "cell_type": "code",
   "execution_count": 23,
   "metadata": {},
   "outputs": [],
   "source": [
    "#Q11 Add the synonyms of the following words to your dictionary \n",
    "#Bad, Good, Awesome, Cold, Easy, Hard, Big, Small"
   ]
  },
  {
   "cell_type": "code",
   "execution_count": 24,
   "metadata": {},
   "outputs": [
    {
     "data": {
      "text/plain": [
       "{'Bad': 'Awful',\n",
       " 'Good': 'Fine',\n",
       " 'Awesome': 'Amazing',\n",
       " 'Cold': 'Chilly',\n",
       " 'Easy': 'Simple',\n",
       " 'Hard': 'Firm',\n",
       " 'Big': 'Huge',\n",
       " 'Small': 'Tiny'}"
      ]
     },
     "execution_count": 24,
     "metadata": {},
     "output_type": "execute_result"
    }
   ],
   "source": [
    "synonyms_dic = {'Bad': 'Awful' , 'Good': 'Fine', 'Awesome': 'Amazing' , 'Cold': 'Chilly', 'Easy': 'Simple', 'Hard': 'Firm', 'Big':'Huge', 'Small': 'Tiny'}\n",
    "synonyms_dic"
   ]
  },
  {
   "cell_type": "code",
   "execution_count": 25,
   "metadata": {},
   "outputs": [],
   "source": [
    "#Q12 Use your dictionary to find the synonym of the following words \n",
    "# Awesome, Easy, Small, Old"
   ]
  },
  {
   "cell_type": "code",
   "execution_count": 26,
   "metadata": {},
   "outputs": [
    {
     "data": {
      "text/plain": [
       "{'Awesome': 'Amazing', 'Easy': 'Simple', 'Small': 'Tiny', 'Old': 'Not found'}"
      ]
     },
     "execution_count": 26,
     "metadata": {},
     "output_type": "execute_result"
    }
   ],
   "source": [
    "# Words to find synonyms for\n",
    "words_to_find = ['Awesome', 'Easy', 'Small', 'Old']\n",
    "\n",
    "# Find synonyms using the dictionary. If a word doesn't have a synonym in the dictionary, return 'Not found'\n",
    "synonyms = {word: synonyms_dic.get(word, 'Not found') for word in words_to_find}\n",
    "\n",
    "synonyms"
   ]
  },
  {
   "cell_type": "code",
   "execution_count": 27,
   "metadata": {},
   "outputs": [
    {
     "name": "stdout",
     "output_type": "stream",
     "text": [
      "Amazing\n"
     ]
    }
   ],
   "source": [
    "print(synonyms_dic.get('Awesome'))\n"
   ]
  },
  {
   "cell_type": "code",
   "execution_count": 27,
   "metadata": {},
   "outputs": [],
   "source": [
    "#Q13 Delete everything from synonyms_dic"
   ]
  },
  {
   "cell_type": "code",
   "execution_count": 28,
   "metadata": {},
   "outputs": [
    {
     "data": {
      "text/plain": [
       "{}"
      ]
     },
     "execution_count": 28,
     "metadata": {},
     "output_type": "execute_result"
    }
   ],
   "source": [
    "# Delete everything from synonyms_dic\n",
    "synonyms_dic.clear()\n",
    "synonyms_dic"
   ]
  },
  {
   "cell_type": "code",
   "execution_count": 29,
   "metadata": {},
   "outputs": [],
   "source": [
    "#Q14 Print all values in synonyms_dic"
   ]
  },
  {
   "cell_type": "code",
   "execution_count": 30,
   "metadata": {},
   "outputs": [
    {
     "data": {
      "text/plain": [
       "dict_values([])"
      ]
     },
     "execution_count": 30,
     "metadata": {},
     "output_type": "execute_result"
    }
   ],
   "source": [
    "synonyms_dic.values()"
   ]
  },
  {
   "cell_type": "code",
   "execution_count": 31,
   "metadata": {},
   "outputs": [],
   "source": [
    "#Q15 Convert the below two lists into dictionary\n",
    "Keys=[\"True\",\"False\"]\n",
    "Values=[1,0]"
   ]
  },
  {
   "cell_type": "code",
   "execution_count": 32,
   "metadata": {},
   "outputs": [
    {
     "data": {
      "text/plain": [
       "{'True': 1, 'False': 0}"
      ]
     },
     "execution_count": 32,
     "metadata": {},
     "output_type": "execute_result"
    }
   ],
   "source": [
    "# Lists to be converted into a dictionary\n",
    "Keys = [\"True\", \"False\"]\n",
    "Values = [1, 0]\n",
    "\n",
    "# Convert lists into a dictionary\n",
    "dictionary = dict(zip(Keys, Values))\n",
    "\n",
    "dictionary\n"
   ]
  },
  {
   "cell_type": "code",
   "execution_count": 33,
   "metadata": {},
   "outputs": [],
   "source": [
    "#Q16 Sum all the values in the following dictionary\n",
    "income={'Jan':1000,'Feb':1500,'Mar':980,'April':1000}"
   ]
  },
  {
   "cell_type": "code",
   "execution_count": 34,
   "metadata": {},
   "outputs": [
    {
     "data": {
      "text/plain": [
       "4480"
      ]
     },
     "execution_count": 34,
     "metadata": {},
     "output_type": "execute_result"
    }
   ],
   "source": [
    "# Dictionary of income\n",
    "income = {'Jan': 1000, 'Feb': 1500, 'Mar': 980, 'April': 1000}\n",
    "\n",
    "# Sum all the values in the dictionary\n",
    "total_income = sum(income.values())\n",
    "\n",
    "total_income\n"
   ]
  },
  {
   "cell_type": "markdown",
   "metadata": {},
   "source": [
    "# Q17 Create the following dictionary \n",
    "encryption = {10:\"hungry\",101:\"am\",110:\"I\",1011:\",\",1101:\"eat\",1001:\"want\",111:\"to\"}\n",
    "\n",
    "What should be the decryption of the following code \n",
    "#\"110 101 10 1011 110 1001 111 1101\""
   ]
  },
  {
   "cell_type": "code",
   "execution_count": 28,
   "metadata": {},
   "outputs": [
    {
     "data": {
      "text/plain": [
       "'I am hungry , I want to eat'"
      ]
     },
     "execution_count": 28,
     "metadata": {},
     "output_type": "execute_result"
    }
   ],
   "source": [
    "# Encryption dictionary\n",
    "encryption = {10: \"hungry\", 101: \"am\", 110: \"I\", 1011: \",\", 1101: \"eat\", 1001: \"want\", 111: \"to\"}\n",
    "\n",
    "# Code to be decrypted\n",
    "code = \"110 101 10 1011 110 1001 111 1101\"\n",
    "\n",
    "# Decrypt the code using the encryption dictionary\n",
    "decryption = ' '.join(encryption[int(word)] for word in code.split())\n",
    "\n",
    "decryption\n"
   ]
  },
  {
   "cell_type": "code",
   "execution_count": null,
   "metadata": {},
   "outputs": [],
   "source": []
  }
 ],
 "metadata": {
  "kernelspec": {
   "display_name": "Python 3 (ipykernel)",
   "language": "python",
   "name": "python3"
  },
  "language_info": {
   "codemirror_mode": {
    "name": "ipython",
    "version": 3
   },
   "file_extension": ".py",
   "mimetype": "text/x-python",
   "name": "python",
   "nbconvert_exporter": "python",
   "pygments_lexer": "ipython3",
   "version": "3.8.8"
  }
 },
 "nbformat": 4,
 "nbformat_minor": 4
}
