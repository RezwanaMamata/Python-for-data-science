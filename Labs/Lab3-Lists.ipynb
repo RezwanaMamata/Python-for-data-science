{
 "cells": [
  {
   "cell_type": "markdown",
   "id": "2168643b",
   "metadata": {},
   "source": [
    "# Learning Objectives\n",
    "\n",
    "*   Perform list operations in Python, including indexing, list manipulation, and copy/clone list"
   ]
  },
  {
   "cell_type": "markdown",
   "id": "c33b6973",
   "metadata": {},
   "source": [
    "## List Indexing"
   ]
  },
  {
   "cell_type": "markdown",
   "id": "823b67e1",
   "metadata": {},
   "source": [
    "We are going to take a look at lists in Python. A list is a sequenced collection of different objects such as integers, strings, and even other lists as well. The address of each element within a list is called an <b>index</b>. An index is used to access and refer to items within a list."
   ]
  },
  {
   "cell_type": "markdown",
   "id": "e20c8420",
   "metadata": {},
   "source": [
    "<img src=\"https://cf-courses-data.s3.us.cloud-object-storage.appdomain.cloud/IBMDeveloperSkillsNetwork-PY0101EN-SkillsNetwork/labs/Module%202/images/ListsIndex.png\" width=\"1000\">"
   ]
  },
  {
   "cell_type": "markdown",
   "id": "7f03b3a4",
   "metadata": {},
   "source": [
    "To create a list, type the list within square brackets <b>\\[ ]</b>, with your content inside the parenthesis and separated by commas. Let us try it!"
   ]
  },
  {
   "cell_type": "code",
   "execution_count": 1,
   "id": "f7af069c",
   "metadata": {},
   "outputs": [
    {
     "data": {
      "text/plain": [
       "['Michael Jackson', 10.1, 1982]"
      ]
     },
     "execution_count": 1,
     "metadata": {},
     "output_type": "execute_result"
    }
   ],
   "source": [
    "# Create a list\n",
    "\n",
    "L = [\"Michael Jackson\", 10.1, 1982]\n",
    "L"
   ]
  },
  {
   "cell_type": "markdown",
   "id": "abf93057",
   "metadata": {},
   "source": [
    "We can use negative and regular indexing with a list:\n",
    "\n",
    "<img src=\"https://cf-courses-data.s3.us.cloud-object-storage.appdomain.cloud/IBMDeveloperSkillsNetwork-PY0101EN-SkillsNetwork/labs/Module%202/images/ListsNeg.png\" width=\"1000\">"
   ]
  },
  {
   "cell_type": "code",
   "execution_count": 2,
   "id": "f06a36d9",
   "metadata": {},
   "outputs": [
    {
     "name": "stdout",
     "output_type": "stream",
     "text": [
      "the same element using negative and positive indexing:\n",
      " Postive: Michael Jackson \n",
      " Negative: Michael Jackson\n",
      "the same element using negative and positive indexing:\n",
      " Postive: 10.1 \n",
      " Negative: 10.1\n",
      "the same element using negative and positive indexing:\n",
      " Postive: 1982 \n",
      " Negative: 1982\n"
     ]
    }
   ],
   "source": [
    "# Print the elements on each index\n",
    "\n",
    "print('the same element using negative and positive indexing:\\n Postive:',L[0],\n",
    "'\\n Negative:' , L[-3]  )\n",
    "print('the same element using negative and positive indexing:\\n Postive:',L[1],\n",
    "'\\n Negative:' , L[-2]  )\n",
    "print('the same element using negative and positive indexing:\\n Postive:',L[2],\n",
    "'\\n Negative:' , L[-1]  )"
   ]
  },
  {
   "cell_type": "markdown",
   "id": "c616cb19",
   "metadata": {},
   "source": [
    "# List Content"
   ]
  },
  {
   "cell_type": "markdown",
   "id": "fa5c8088",
   "metadata": {},
   "source": [
    "Lists can contain strings, floats, and integers. We can nest other lists, and we can also nest tuples and other data structures. The same indexing conventions apply for nesting:"
   ]
  },
  {
   "cell_type": "code",
   "execution_count": 3,
   "id": "e98c65df",
   "metadata": {},
   "outputs": [
    {
     "data": {
      "text/plain": [
       "['Michael Jackson', 10.1, 1982, [1, 2], ('A', 1)]"
      ]
     },
     "execution_count": 3,
     "metadata": {},
     "output_type": "execute_result"
    }
   ],
   "source": [
    "# Sample List\n",
    "\n",
    "[\"Michael Jackson\", 10.1, 1982, [1, 2], (\"A\", 1)]"
   ]
  },
  {
   "cell_type": "markdown",
   "id": "a4dc3040",
   "metadata": {},
   "source": [
    "## List Operations"
   ]
  },
  {
   "cell_type": "code",
   "execution_count": 4,
   "id": "92a1b4a3",
   "metadata": {},
   "outputs": [
    {
     "data": {
      "text/plain": [
       "['Michael Jackson', 10.1, 1982, 'MJ', 1]"
      ]
     },
     "execution_count": 4,
     "metadata": {},
     "output_type": "execute_result"
    }
   ],
   "source": [
    "#Sample list\n",
    "\n",
    "L = [\"Michael Jackson\", 10.1, 1982, \"MJ\", 1]\n",
    "L"
   ]
  },
  {
   "cell_type": "markdown",
   "id": "4c9c54d5",
   "metadata": {},
   "source": [
    "<img src=\"https://cf-courses-data.s3.us.cloud-object-storage.appdomain.cloud/IBMDeveloperSkillsNetwork-PY0101EN-SkillsNetwork/labs/Module%202/images/ListsSlice.png\" width=\"1000\">"
   ]
  },
  {
   "cell_type": "code",
   "execution_count": 5,
   "id": "a2e2f315",
   "metadata": {},
   "outputs": [
    {
     "data": {
      "text/plain": [
       "['MJ', 1]"
      ]
     },
     "execution_count": 5,
     "metadata": {},
     "output_type": "execute_result"
    }
   ],
   "source": [
    "# list  slicing\n",
    "L[3:5]"
   ]
  },
  {
   "cell_type": "markdown",
   "id": "aa9669ce",
   "metadata": {},
   "source": [
    "## Extend and Append"
   ]
  },
  {
   "cell_type": "markdown",
   "id": "a9d2dc8c",
   "metadata": {},
   "source": [
    "In Python, `extend` and `append` are methods used to add elements to a list, but they are used in different contexts and have different effects. \n",
    "\n",
    "Use `append` when you want to add a single element to the list, keeping it as a single entity, and use `extend` when you want to merge a list with another iterable, adding its elements to the list individually.\n",
    " "
   ]
  },
  {
   "cell_type": "markdown",
   "id": "d02d9500",
   "metadata": {},
   "source": [
    "### `extend` Method\n",
    "- **Purpose**: Adds all the elements of an iterable (e.g., another list, tuple, set, etc.) to the end of the list.\n",
    "- **Usage**: If you want to concatenate a list with another list or any other iterable, you use extend.\n",
    "- **Effect**: The size of the list increases by the number of elements in the iterable being added. It unpacks the iterable and adds its elements to the list."
   ]
  },
  {
   "cell_type": "code",
   "execution_count": 6,
   "id": "078b4a9c",
   "metadata": {},
   "outputs": [
    {
     "data": {
      "text/plain": [
       "['Michael Jackson', 10.2, 'pop', 10]"
      ]
     },
     "execution_count": 6,
     "metadata": {},
     "output_type": "execute_result"
    }
   ],
   "source": [
    "#Use extend  to add elements to list\n",
    "\n",
    "L = ['Michael Jackson', 10.2]\n",
    "L.extend(['pop',10])\n",
    "L"
   ]
  },
  {
   "cell_type": "markdown",
   "id": "893799a2",
   "metadata": {},
   "source": [
    "### `append` Method\n",
    "- **Purpose**: Adds a single element to the end of a list.\n",
    "- **Usage**: If you have a list and you want to add an item to this list, you use `append`.\n",
    "- **Effect**: The size of the list increases by one because `append` takes the item as a whole and adds it to the list as a single element, regardless of its type (e.g., string, number, list, etc.).\n"
   ]
  },
  {
   "cell_type": "code",
   "execution_count": 7,
   "id": "a9326c99",
   "metadata": {},
   "outputs": [
    {
     "data": {
      "text/plain": [
       "['Michael Jackson', 10.2, ['pop', 10]]"
      ]
     },
     "execution_count": 7,
     "metadata": {},
     "output_type": "execute_result"
    }
   ],
   "source": [
    "# Use append to add elements to list\n",
    "\n",
    "L = ['Michael Jackson', 10.2]\n",
    "L.append(['pop',10])\n",
    "L"
   ]
  },
  {
   "cell_type": "markdown",
   "id": "796be985",
   "metadata": {},
   "source": [
    "### Update elements: \n",
    "As lists are mutable, we can change them. For example, we can change the first element as follows:"
   ]
  },
  {
   "cell_type": "code",
   "execution_count": 8,
   "id": "192827ef",
   "metadata": {},
   "outputs": [
    {
     "name": "stdout",
     "output_type": "stream",
     "text": [
      "Before Change: ['disco', 10, 1.2]\n",
      "After Changge: ['hard rock', 10, 1.2]\n"
     ]
    }
   ],
   "source": [
    "# Change element based on the index\n",
    "A = [\"disco\", 10, 1.2]\n",
    "print('Before Change:', A)\n",
    "A[0] = \"hard rock\"\n",
    "print('After Changge:', A)"
   ]
  },
  {
   "cell_type": "markdown",
   "id": "71f99925",
   "metadata": {},
   "source": [
    "### Delete elements\n",
    "We can also delete an element of a list using the `del` command:"
   ]
  },
  {
   "cell_type": "code",
   "execution_count": 9,
   "id": "73bea151",
   "metadata": {},
   "outputs": [
    {
     "name": "stdout",
     "output_type": "stream",
     "text": [
      "Before Change: ['hard rock', 10, 1.2]\n",
      "After Change: [10, 1.2]\n"
     ]
    }
   ],
   "source": [
    "# Delete element based on index\n",
    "\n",
    "print('Before Change:', A)\n",
    "del(A[0])\n",
    "print('After Change:', A)"
   ]
  },
  {
   "cell_type": "markdown",
   "id": "b097faf0",
   "metadata": {},
   "source": [
    "### Split\n",
    "We can convert a string to a list using `split`. For exemaple, the method `split` translates every group of characters separated by a space into an element in a list"
   ]
  },
  {
   "cell_type": "code",
   "execution_count": 10,
   "id": "c45dda4e",
   "metadata": {},
   "outputs": [
    {
     "data": {
      "text/plain": [
       "['hard', 'rock']"
      ]
     },
     "execution_count": 10,
     "metadata": {},
     "output_type": "execute_result"
    }
   ],
   "source": [
    "# Split the string, default is by space\n",
    "\n",
    "'hard rock'.split()"
   ]
  },
  {
   "cell_type": "markdown",
   "id": "60f4ecb9",
   "metadata": {},
   "source": [
    "We can use the split function to separate strings on a specific character which we call a **delimiter**. We pass the character we would like to split on into the argument, which in this case is a comma.  The result is a list, and each element corresponds to a set of characters that have been separated by a comma:"
   ]
  },
  {
   "cell_type": "code",
   "execution_count": 11,
   "id": "3268c12b",
   "metadata": {},
   "outputs": [
    {
     "data": {
      "text/plain": [
       "['A', 'B', 'C', 'D']"
      ]
     },
     "execution_count": 11,
     "metadata": {},
     "output_type": "execute_result"
    }
   ],
   "source": [
    "# Split the string by comma\n",
    "\n",
    "'A,B,C,D'.split(',')"
   ]
  },
  {
   "cell_type": "markdown",
   "id": "025e6ce0",
   "metadata": {},
   "source": [
    "## Copy and Clone List\n",
    "\n",
    "* When we set one variable B equal to A, both A and B are referencing the same list in memory:"
   ]
  },
  {
   "cell_type": "code",
   "execution_count": 12,
   "id": "6729eb39",
   "metadata": {},
   "outputs": [
    {
     "name": "stdout",
     "output_type": "stream",
     "text": [
      "A: ['hard rock', 10, 1.2]\n",
      "B: ['hard rock', 10, 1.2]\n"
     ]
    }
   ],
   "source": [
    "# Copy (copy by reference) the list A\n",
    "\n",
    "A = [\"hard rock\", 10, 1.2]\n",
    "B = A\n",
    "print('A:', A)\n",
    "print('B:', B)"
   ]
  },
  {
   "cell_type": "markdown",
   "id": "e862ce8a",
   "metadata": {},
   "source": [
    "<img src=\"https://cf-courses-data.s3.us.cloud-object-storage.appdomain.cloud/IBMDeveloperSkillsNetwork-PY0101EN-SkillsNetwork/labs/Module%202/images/ListsRef.png\" width=\"1000\" align=\"center\">\n"
   ]
  },
  {
   "cell_type": "markdown",
   "id": "20a8c823",
   "metadata": {},
   "source": [
    "Initially, the value of the first element in B is set as \"hard rock\". If we change the first element in A to \"banana\", we get an unexpected side effect. As A and B are referencing the same list, if we change list A, then list B also changes. If we check the first element of B we get \"banana\" instead of \"hard rock\":"
   ]
  },
  {
   "cell_type": "code",
   "execution_count": 13,
   "id": "ede3669f",
   "metadata": {},
   "outputs": [
    {
     "name": "stdout",
     "output_type": "stream",
     "text": [
      "B[0]: hard rock\n",
      "B[0]: banana\n"
     ]
    }
   ],
   "source": [
    "# Examine the copy by reference\n",
    "\n",
    "print('B[0]:', B[0])\n",
    "A[0] = \"banana\"\n",
    "print('B[0]:', B[0])"
   ]
  },
  {
   "cell_type": "markdown",
   "id": "5ae7a7af",
   "metadata": {},
   "source": [
    "<img src=\"https://cf-courses-data.s3.us.cloud-object-storage.appdomain.cloud/IBMDeveloperSkillsNetwork-PY0101EN-SkillsNetwork/labs/Module%202/images/ListsRefGif.gif\" width=\"1000\">"
   ]
  },
  {
   "cell_type": "markdown",
   "id": "ef156e51",
   "metadata": {},
   "source": [
    "You can clone list A by using the following syntax:"
   ]
  },
  {
   "cell_type": "code",
   "execution_count": 14,
   "id": "fcdeed24",
   "metadata": {},
   "outputs": [
    {
     "data": {
      "text/plain": [
       "['banana', 10, 1.2]"
      ]
     },
     "execution_count": 14,
     "metadata": {},
     "output_type": "execute_result"
    }
   ],
   "source": [
    "# Clone (clone by value) the list A\n",
    "\n",
    "B = A[:]\n",
    "B"
   ]
  },
  {
   "cell_type": "markdown",
   "id": "98d4cb56",
   "metadata": {},
   "source": [
    "Variable **B** references a new copy or clone of the original list. This is demonstrated in the following figure:"
   ]
  },
  {
   "cell_type": "markdown",
   "id": "eadd7343",
   "metadata": {},
   "source": [
    "<img src=\"https://cf-courses-data.s3.us.cloud-object-storage.appdomain.cloud/IBMDeveloperSkillsNetwork-PY0101EN-SkillsNetwork/labs/Module%202/images/ListsVal.gif\" width=\"1000\">\n"
   ]
  },
  {
   "cell_type": "markdown",
   "id": "941ca42e",
   "metadata": {},
   "source": [
    "Now if you change A, B will not change:"
   ]
  },
  {
   "cell_type": "code",
   "execution_count": 16,
   "id": "cc7858ca",
   "metadata": {},
   "outputs": [
    {
     "name": "stdout",
     "output_type": "stream",
     "text": [
      "B[0]: banana\n",
      "B[0]: banana\n"
     ]
    }
   ],
   "source": [
    "print('B[0]:', B[0])\n",
    "A[0] = \"hard rock\"\n",
    "print('B[0]:', B[0])"
   ]
  },
  {
   "cell_type": "markdown",
   "id": "0c5b704c",
   "metadata": {},
   "source": [
    "## Quiz on List"
   ]
  },
  {
   "cell_type": "markdown",
   "id": "d348cb3e",
   "metadata": {},
   "source": [
    "### Q1. Create a list a_list, with the following elements 1, hello, [1,2,3] and True."
   ]
  },
  {
   "cell_type": "code",
   "execution_count": 17,
   "id": "25aaba3d",
   "metadata": {},
   "outputs": [
    {
     "data": {
      "text/plain": [
       "[1, 'hello', [1, 2, 3], True]"
      ]
     },
     "execution_count": 17,
     "metadata": {},
     "output_type": "execute_result"
    }
   ],
   "source": [
    "a_list = [1, 'hello', [1,2,3], True]\n",
    "a_list"
   ]
  },
  {
   "cell_type": "markdown",
   "id": "73abcdbb",
   "metadata": {},
   "source": [
    "### Q2. Find the value stored at index 1 of a_list."
   ]
  },
  {
   "cell_type": "code",
   "execution_count": 18,
   "id": "189c529a",
   "metadata": {},
   "outputs": [
    {
     "data": {
      "text/plain": [
       "'hello'"
      ]
     },
     "execution_count": 18,
     "metadata": {},
     "output_type": "execute_result"
    }
   ],
   "source": [
    "index1_value = a_list[1]\n",
    "index1_value"
   ]
  },
  {
   "cell_type": "markdown",
   "id": "56ff10bc",
   "metadata": {},
   "source": [
    "### Q3. Retrieve the elements stored at index 1, 2 and 3 of a_list."
   ]
  },
  {
   "cell_type": "code",
   "execution_count": 20,
   "id": "bb02b366",
   "metadata": {},
   "outputs": [
    {
     "data": {
      "text/plain": [
       "['hello', [1, 2, 3], True]"
      ]
     },
     "execution_count": 20,
     "metadata": {},
     "output_type": "execute_result"
    }
   ],
   "source": [
    "# retriving using loop\n",
    "# for i in range(1,4):\n",
    "#     print(a_list[i])\n",
    "\n",
    "# retriving using slicing\n",
    "a_list[1:4]"
   ]
  },
  {
   "cell_type": "markdown",
   "id": "abc33ac0",
   "metadata": {},
   "source": [
    "### Q4. Concatenate the following lists A = [1, 'a'] and B = [2, 1, 'd']."
   ]
  },
  {
   "cell_type": "code",
   "execution_count": 23,
   "id": "99a688de",
   "metadata": {},
   "outputs": [
    {
     "data": {
      "text/plain": [
       "[1, 'a', 2, 1, 'd']"
      ]
     },
     "execution_count": 23,
     "metadata": {},
     "output_type": "execute_result"
    }
   ],
   "source": [
    "# declaring list a and b\n",
    "A = [1, 'a']\n",
    "B = [2, 1, 'd']\n",
    "\n",
    "# concatening list A and B\n",
    "# A.extend(B)\n",
    "# or\n",
    "A+B"
   ]
  },
  {
   "cell_type": "markdown",
   "id": "b0e1c98d",
   "metadata": {},
   "source": [
    "## Scenario: Shopping list"
   ]
  },
  {
   "cell_type": "markdown",
   "id": "25cb6486",
   "metadata": {},
   "source": [
    "### Task-1 Create an empty list"
   ]
  },
  {
   "cell_type": "code",
   "execution_count": 24,
   "id": "b51b9ff8",
   "metadata": {},
   "outputs": [],
   "source": [
    "# creating an empty list\n",
    "\n",
    "shopping_list = []"
   ]
  },
  {
   "cell_type": "markdown",
   "id": "d588270e",
   "metadata": {},
   "source": [
    "### Task-2 Now store the number of items to the shopping_list\n",
    "\n",
    "* Watch\n",
    "* Laptop\n",
    "* Shoes\n",
    "* Pen\n",
    "* Clothes"
   ]
  },
  {
   "cell_type": "code",
   "execution_count": 25,
   "id": "cd16f9e9",
   "metadata": {},
   "outputs": [],
   "source": [
    "shopping_list = ['Watch', 'Laptop', 'Shoes', 'Pen', 'Clothes']"
   ]
  },
  {
   "cell_type": "markdown",
   "id": "53a23cc9",
   "metadata": {},
   "source": [
    "### Task-3 Add a new item 'Football' to the shopping_list"
   ]
  },
  {
   "cell_type": "code",
   "execution_count": 26,
   "id": "6b08c518",
   "metadata": {},
   "outputs": [
    {
     "data": {
      "text/plain": [
       "['Watch', 'Laptop', 'Shoes', 'Pen', 'Clothes', 'Football']"
      ]
     },
     "execution_count": 26,
     "metadata": {},
     "output_type": "execute_result"
    }
   ],
   "source": [
    "shopping_list.append('Football')\n",
    "shopping_list"
   ]
  },
  {
   "cell_type": "markdown",
   "id": "dc43eeb9",
   "metadata": {},
   "source": [
    "### Task-4 Print First item from the shopping_list"
   ]
  },
  {
   "cell_type": "code",
   "execution_count": 27,
   "id": "c24ec3cd",
   "metadata": {},
   "outputs": [
    {
     "name": "stdout",
     "output_type": "stream",
     "text": [
      "Watch\n"
     ]
    }
   ],
   "source": [
    "# printing first item from the list\n",
    "print(shopping_list[0])"
   ]
  },
  {
   "cell_type": "markdown",
   "id": "819a73aa",
   "metadata": {},
   "source": [
    "### Task-5 Print Last item from the shopping_list"
   ]
  },
  {
   "cell_type": "code",
   "execution_count": 28,
   "id": "60877fe1",
   "metadata": {},
   "outputs": [
    {
     "name": "stdout",
     "output_type": "stream",
     "text": [
      "Football\n"
     ]
    }
   ],
   "source": [
    "# printing last item from the list\n",
    "print(shopping_list[-1])"
   ]
  },
  {
   "cell_type": "markdown",
   "id": "bb74d068",
   "metadata": {},
   "source": [
    "### Task-6 Print the entire Shopping List"
   ]
  },
  {
   "cell_type": "code",
   "execution_count": 30,
   "id": "11a21975",
   "metadata": {},
   "outputs": [
    {
     "name": "stdout",
     "output_type": "stream",
     "text": [
      "['Watch', 'Laptop', 'Shoes', 'Pen', 'Clothes', 'Football']\n"
     ]
    }
   ],
   "source": [
    "# printing the entire list\n",
    "print(shopping_list)"
   ]
  },
  {
   "cell_type": "markdown",
   "id": "3f75b692",
   "metadata": {},
   "source": [
    "### Task-7 Print the item that are important to buy from the Shopping List\n",
    "\n",
    "* Print \"Laptop\" and \"shoes\""
   ]
  },
  {
   "cell_type": "code",
   "execution_count": 32,
   "id": "22e6ef42",
   "metadata": {},
   "outputs": [
    {
     "name": "stdout",
     "output_type": "stream",
     "text": [
      "['Laptop', 'Shoes']\n"
     ]
    }
   ],
   "source": [
    "print(shopping_list[1:3])"
   ]
  },
  {
   "cell_type": "markdown",
   "id": "c4fe2b97",
   "metadata": {},
   "source": [
    "### Task-8 Change the item from the shopping_list\n",
    "\n",
    "* For example: Instead of \"Pen\" you want to buy \"Notebook\" let's change the item stored in the list."
   ]
  },
  {
   "cell_type": "code",
   "execution_count": 33,
   "id": "1d00146a",
   "metadata": {},
   "outputs": [
    {
     "name": "stdout",
     "output_type": "stream",
     "text": [
      "\n",
      "Updated shopping list:\n",
      "['Watch', 'Laptop', 'Shoes', 'Notebook', 'Clothes', 'Football']\n"
     ]
    }
   ],
   "source": [
    "# Find the index of the item you want to change\n",
    "\n",
    "item_to_change = 'Pen'  # Item you want to change\n",
    "if item_to_change in shopping_list:\n",
    "    index_to_change = shopping_list.index(item_to_change) # Index of the item you want to change\n",
    "    new_item = \"Notebook\"  # New item to replace the old one\n",
    "    shopping_list[index_to_change] = new_item\n",
    "\n",
    "    # Display the updated shopping list\n",
    "    print(\"\\nUpdated shopping list:\")\n",
    "    print(shopping_list)\n",
    "else:\n",
    "    print(f\"The item '{item_to_change}' is not in the shopping list.\")"
   ]
  },
  {
   "cell_type": "markdown",
   "id": "0adfcf8b",
   "metadata": {},
   "source": [
    "### Task-9 Delete the item from the shopping_list that is not required\n",
    "\n"
   ]
  },
  {
   "cell_type": "code",
   "execution_count": 35,
   "id": "6ece2f0b",
   "metadata": {},
   "outputs": [
    {
     "name": "stdout",
     "output_type": "stream",
     "text": [
      "\n",
      "Updated shopping list:\n",
      "['Watch', 'Laptop', 'Shoes', 'Notebook', 'Football']\n"
     ]
    }
   ],
   "source": [
    "# item you want to delete from the list\n",
    "item_to_del = 'Clothes'\n",
    "\n",
    "if item_to_del in shopping_list:\n",
    "    index_item = shopping_list.index(item_to_del)\n",
    "    del(shopping_list[index_item])\n",
    "    \n",
    "    # Display the updated shopping list\n",
    "    print(\"\\nUpdated shopping list:\")\n",
    "    print(shopping_list)\n",
    "else:\n",
    "    print(f\"The item '{item_to_change}' is not in the shopping list.\")"
   ]
  }
 ],
 "metadata": {
  "kernelspec": {
   "display_name": "Python 3 (ipykernel)",
   "language": "python",
   "name": "python3"
  },
  "language_info": {
   "codemirror_mode": {
    "name": "ipython",
    "version": 3
   },
   "file_extension": ".py",
   "mimetype": "text/x-python",
   "name": "python",
   "nbconvert_exporter": "python",
   "pygments_lexer": "ipython3",
   "version": "3.8.8"
  }
 },
 "nbformat": 4,
 "nbformat_minor": 5
}
